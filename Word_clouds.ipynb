{
 "cells": [
  {
   "cell_type": "markdown",
   "metadata": {},
   "source": [
    "<h2><center> Word Dimensioning</center></h2>\n",
    "<p>This project is to look at what are other ways we can extract information from text by creating differernt dimension parameters\n",
    "    <h4>The examples I plan to look at are the following:  </h4>\n",
    "    <ul>\n",
    "    <li>Comaring senetences to paragraphs themselve</li>\n",
    "    <li>Pulling sentences in text of a certain \"keyword\" and comparing them to each other</li>\n",
    "    <li>Select a key word and make a word cloud around that word from the day news </li>\n",
    "    <ul>\n",
    "</p>"
   ]
  },
  {
   "cell_type": "code",
   "execution_count": 6,
   "metadata": {},
   "outputs": [],
   "source": [
    "%run config.ipynb #hide sensitive info from github \n",
    "#Libraries used in this project\n",
    "import wordcloud#pip install wordcloud\n",
    "import pandas as pd"
   ]
  },
  {
   "cell_type": "markdown",
   "metadata": {},
   "source": [
    "## Getting text using an news API"
   ]
  },
  {
   "cell_type": "code",
   "execution_count": 8,
   "metadata": {},
   "outputs": [],
   "source": [
    "NEWSAPI_KEY    =  YOUR_NEWSAPI_KEY "
   ]
  }
 ],
 "metadata": {
  "kernelspec": {
   "display_name": "Python 3",
   "language": "python",
   "name": "python3"
  },
  "language_info": {
   "codemirror_mode": {
    "name": "ipython",
    "version": 3
   },
   "file_extension": ".py",
   "mimetype": "text/x-python",
   "name": "python",
   "nbconvert_exporter": "python",
   "pygments_lexer": "ipython3",
   "version": "3.7.6"
  }
 },
 "nbformat": 4,
 "nbformat_minor": 4
}
